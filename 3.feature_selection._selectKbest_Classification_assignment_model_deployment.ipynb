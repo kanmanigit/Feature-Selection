{
 "cells": [
  {
   "cell_type": "code",
   "execution_count": 1,
   "id": "456dae46-bad6-45b4-9710-a5ea3b3c8d13",
   "metadata": {},
   "outputs": [],
   "source": [
    "# Deployment of Random_forest model with the reduced features by \n",
    "import pandas as pd\n",
    "import pickle\n"
   ]
  },
  {
   "cell_type": "code",
   "execution_count": 2,
   "id": "c9ca24b9-c9bd-48f2-bb4f-b729f5e48221",
   "metadata": {},
   "outputs": [],
   "source": [
    "# Load ssx std scaler object\n",
    "\n",
    "SSX=pickle.load(open(\"ssx.pkl\",\"rb\"))"
   ]
  },
  {
   "cell_type": "code",
   "execution_count": 3,
   "id": "06040c3c-7c67-4e0f-9838-46227c692a89",
   "metadata": {},
   "outputs": [],
   "source": [
    "# Load model\n",
    "\n",
    "loaded_model=pickle.load(open(\"random_final_model\",'rb'))"
   ]
  },
  {
   "cell_type": "raw",
   "id": "1a7219fa-51c0-4c1e-a128-2817f5cd7d80",
   "metadata": {},
   "source": [
    "# Get the dataset \n",
    "df1=pd.read_csv(\"prep.csv\",index_col=None)\n"
   ]
  },
  {
   "cell_type": "code",
   "execution_count": 5,
   "id": "88aae6b9-c10b-463d-814a-e27fecc7513c",
   "metadata": {},
   "outputs": [],
   "source": [
    "pre_input=SSX.transform([[148.112676,57.482105,3.077356,38.868902,8408.191126]])"
   ]
  },
  {
   "cell_type": "code",
   "execution_count": 6,
   "id": "7b61d83d-74de-4665-ad4a-12d9da8e9459",
   "metadata": {},
   "outputs": [],
   "source": [
    "result=loaded_model.predict(pre_input)\n"
   ]
  },
  {
   "cell_type": "code",
   "execution_count": 7,
   "id": "cc37ea0d-7a97-4343-85a9-564fc8a57937",
   "metadata": {},
   "outputs": [
    {
     "data": {
      "text/plain": [
       "array([1])"
      ]
     },
     "execution_count": 7,
     "metadata": {},
     "output_type": "execute_result"
    }
   ],
   "source": [
    "result"
   ]
  },
  {
   "cell_type": "code",
   "execution_count": null,
   "id": "84a8460a-9836-4e24-b0d7-b2dc9cdbe7d8",
   "metadata": {},
   "outputs": [],
   "source": []
  },
  {
   "cell_type": "code",
   "execution_count": null,
   "id": "3ea10f68-0e62-4ca4-9077-7f3ec16d9257",
   "metadata": {},
   "outputs": [],
   "source": []
  },
  {
   "cell_type": "code",
   "execution_count": null,
   "id": "1e03bbcd-9370-466d-9399-3960c78e1d85",
   "metadata": {},
   "outputs": [],
   "source": []
  },
  {
   "cell_type": "code",
   "execution_count": null,
   "id": "86823a45-2881-4af0-8e7b-cc8a19de656c",
   "metadata": {},
   "outputs": [],
   "source": []
  }
 ],
 "metadata": {
  "kernelspec": {
   "display_name": "Python 3 (ipykernel)",
   "language": "python",
   "name": "python3"
  },
  "language_info": {
   "codemirror_mode": {
    "name": "ipython",
    "version": 3
   },
   "file_extension": ".py",
   "mimetype": "text/x-python",
   "name": "python",
   "nbconvert_exporter": "python",
   "pygments_lexer": "ipython3",
   "version": "3.10.14"
  }
 },
 "nbformat": 4,
 "nbformat_minor": 5
}
