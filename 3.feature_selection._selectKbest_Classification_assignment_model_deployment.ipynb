{
 "cells": [
  {
   "cell_type": "code",
   "execution_count": 1,
   "id": "456dae46-bad6-45b4-9710-a5ea3b3c8d13",
   "metadata": {},
   "outputs": [],
   "source": [
    "import pandas as pd\n",
    "import pickle\n"
   ]
  },
  {
   "cell_type": "code",
   "execution_count": 2,
   "id": "c9ca24b9-c9bd-48f2-bb4f-b729f5e48221",
   "metadata": {},
   "outputs": [],
   "source": [
    "# Load ssx std scaler object\n",
    "SSX=pickle.load(open(\"ssx.pkl\",\"rb\"))"
   ]
  },
  {
   "cell_type": "code",
   "execution_count": 3,
   "id": "06040c3c-7c67-4e0f-9838-46227c692a89",
   "metadata": {},
   "outputs": [],
   "source": [
    "# Load model\n",
    "loaded_model=pickle.load(open(\"random_final_model\",'rb'))"
   ]
  },
  {
   "cell_type": "code",
   "execution_count": null,
   "id": "f321801e-d928-4525-9b0b-bdd9c416e666",
   "metadata": {},
   "outputs": [],
   "source": []
  },
  {
   "cell_type": "raw",
   "id": "1a7219fa-51c0-4c1e-a128-2817f5cd7d80",
   "metadata": {},
   "source": [
    "df1=pd.read_csv(\"prep.csv\",index_col=None)\n",
    "\n",
    "#Convert categorical variable into dummy/indicator variables.\n",
    "df1=pd.get_dummies(df1,drop_first=True,dtype=int)\n",
    "df1"
   ]
  },
  {
   "cell_type": "code",
   "execution_count": 5,
   "id": "c5c96519-330b-47e0-b864-e8ede4f8e87b",
   "metadata": {},
   "outputs": [
    {
     "data": {
      "text/html": [
       "<div>\n",
       "<style scoped>\n",
       "    .dataframe tbody tr th:only-of-type {\n",
       "        vertical-align: middle;\n",
       "    }\n",
       "\n",
       "    .dataframe tbody tr th {\n",
       "        vertical-align: top;\n",
       "    }\n",
       "\n",
       "    .dataframe thead th {\n",
       "        text-align: right;\n",
       "    }\n",
       "</style>\n",
       "<table border=\"1\" class=\"dataframe\">\n",
       "  <thead>\n",
       "    <tr style=\"text-align: right;\">\n",
       "      <th></th>\n",
       "      <th>bgr</th>\n",
       "      <th>bu</th>\n",
       "      <th>sc</th>\n",
       "      <th>pcv</th>\n",
       "      <th>wc</th>\n",
       "    </tr>\n",
       "  </thead>\n",
       "  <tbody>\n",
       "    <tr>\n",
       "      <th>0</th>\n",
       "      <td>148.112676</td>\n",
       "      <td>57.482105</td>\n",
       "      <td>3.077356</td>\n",
       "      <td>38.868902</td>\n",
       "      <td>8408.191126</td>\n",
       "    </tr>\n",
       "    <tr>\n",
       "      <th>1</th>\n",
       "      <td>148.112676</td>\n",
       "      <td>22.000000</td>\n",
       "      <td>0.700000</td>\n",
       "      <td>34.000000</td>\n",
       "      <td>12300.000000</td>\n",
       "    </tr>\n",
       "    <tr>\n",
       "      <th>2</th>\n",
       "      <td>99.000000</td>\n",
       "      <td>23.000000</td>\n",
       "      <td>0.600000</td>\n",
       "      <td>34.000000</td>\n",
       "      <td>8408.191126</td>\n",
       "    </tr>\n",
       "    <tr>\n",
       "      <th>3</th>\n",
       "      <td>148.112676</td>\n",
       "      <td>16.000000</td>\n",
       "      <td>0.700000</td>\n",
       "      <td>38.868902</td>\n",
       "      <td>8408.191126</td>\n",
       "    </tr>\n",
       "    <tr>\n",
       "      <th>4</th>\n",
       "      <td>148.112676</td>\n",
       "      <td>25.000000</td>\n",
       "      <td>0.600000</td>\n",
       "      <td>36.000000</td>\n",
       "      <td>12400.000000</td>\n",
       "    </tr>\n",
       "    <tr>\n",
       "      <th>...</th>\n",
       "      <td>...</td>\n",
       "      <td>...</td>\n",
       "      <td>...</td>\n",
       "      <td>...</td>\n",
       "      <td>...</td>\n",
       "    </tr>\n",
       "    <tr>\n",
       "      <th>394</th>\n",
       "      <td>219.000000</td>\n",
       "      <td>36.000000</td>\n",
       "      <td>1.300000</td>\n",
       "      <td>37.000000</td>\n",
       "      <td>9800.000000</td>\n",
       "    </tr>\n",
       "    <tr>\n",
       "      <th>395</th>\n",
       "      <td>220.000000</td>\n",
       "      <td>68.000000</td>\n",
       "      <td>2.800000</td>\n",
       "      <td>27.000000</td>\n",
       "      <td>8408.191126</td>\n",
       "    </tr>\n",
       "    <tr>\n",
       "      <th>396</th>\n",
       "      <td>110.000000</td>\n",
       "      <td>115.000000</td>\n",
       "      <td>6.000000</td>\n",
       "      <td>26.000000</td>\n",
       "      <td>9200.000000</td>\n",
       "    </tr>\n",
       "    <tr>\n",
       "      <th>397</th>\n",
       "      <td>207.000000</td>\n",
       "      <td>80.000000</td>\n",
       "      <td>6.800000</td>\n",
       "      <td>38.868902</td>\n",
       "      <td>8408.191126</td>\n",
       "    </tr>\n",
       "    <tr>\n",
       "      <th>398</th>\n",
       "      <td>100.000000</td>\n",
       "      <td>49.000000</td>\n",
       "      <td>1.000000</td>\n",
       "      <td>53.000000</td>\n",
       "      <td>8500.000000</td>\n",
       "    </tr>\n",
       "  </tbody>\n",
       "</table>\n",
       "<p>399 rows × 5 columns</p>\n",
       "</div>"
      ],
      "text/plain": [
       "            bgr          bu        sc        pcv            wc\n",
       "0    148.112676   57.482105  3.077356  38.868902   8408.191126\n",
       "1    148.112676   22.000000  0.700000  34.000000  12300.000000\n",
       "2     99.000000   23.000000  0.600000  34.000000   8408.191126\n",
       "3    148.112676   16.000000  0.700000  38.868902   8408.191126\n",
       "4    148.112676   25.000000  0.600000  36.000000  12400.000000\n",
       "..          ...         ...       ...        ...           ...\n",
       "394  219.000000   36.000000  1.300000  37.000000   9800.000000\n",
       "395  220.000000   68.000000  2.800000  27.000000   8408.191126\n",
       "396  110.000000  115.000000  6.000000  26.000000   9200.000000\n",
       "397  207.000000   80.000000  6.800000  38.868902   8408.191126\n",
       "398  100.000000   49.000000  1.000000  53.000000   8500.000000\n",
       "\n",
       "[399 rows x 5 columns]"
      ]
     },
     "execution_count": 5,
     "metadata": {},
     "output_type": "execute_result"
    }
   ],
   "source": [
    "pre_input=df1[['bgr', 'bu', 'sc', 'pcv', 'wc']]\n",
    "pre_input"
   ]
  },
  {
   "cell_type": "code",
   "execution_count": 8,
   "id": "88aae6b9-c10b-463d-814a-e27fecc7513c",
   "metadata": {},
   "outputs": [],
   "source": [
    "pre_input=SSX.transform([[148.112676,57.482105,3.077356,38.868902,8408.191126]])"
   ]
  },
  {
   "cell_type": "code",
   "execution_count": 9,
   "id": "7b61d83d-74de-4665-ad4a-12d9da8e9459",
   "metadata": {},
   "outputs": [],
   "source": [
    "result=loaded_model.predict(pre_input)\n"
   ]
  },
  {
   "cell_type": "code",
   "execution_count": 10,
   "id": "cc37ea0d-7a97-4343-85a9-564fc8a57937",
   "metadata": {},
   "outputs": [
    {
     "data": {
      "text/plain": [
       "array([1])"
      ]
     },
     "execution_count": 10,
     "metadata": {},
     "output_type": "execute_result"
    }
   ],
   "source": [
    "result"
   ]
  },
  {
   "cell_type": "code",
   "execution_count": null,
   "id": "84a8460a-9836-4e24-b0d7-b2dc9cdbe7d8",
   "metadata": {},
   "outputs": [],
   "source": []
  },
  {
   "cell_type": "code",
   "execution_count": null,
   "id": "3ea10f68-0e62-4ca4-9077-7f3ec16d9257",
   "metadata": {},
   "outputs": [],
   "source": []
  },
  {
   "cell_type": "code",
   "execution_count": null,
   "id": "1e03bbcd-9370-466d-9399-3960c78e1d85",
   "metadata": {},
   "outputs": [],
   "source": []
  },
  {
   "cell_type": "code",
   "execution_count": null,
   "id": "86823a45-2881-4af0-8e7b-cc8a19de656c",
   "metadata": {},
   "outputs": [],
   "source": []
  }
 ],
 "metadata": {
  "kernelspec": {
   "display_name": "Python 3 (ipykernel)",
   "language": "python",
   "name": "python3"
  },
  "language_info": {
   "codemirror_mode": {
    "name": "ipython",
    "version": 3
   },
   "file_extension": ".py",
   "mimetype": "text/x-python",
   "name": "python",
   "nbconvert_exporter": "python",
   "pygments_lexer": "ipython3",
   "version": "3.10.14"
  }
 },
 "nbformat": 4,
 "nbformat_minor": 5
}
