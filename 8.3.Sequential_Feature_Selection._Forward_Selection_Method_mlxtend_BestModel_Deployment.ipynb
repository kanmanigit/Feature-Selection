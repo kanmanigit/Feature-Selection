{
 "cells": [
  {
   "cell_type": "code",
   "execution_count": 1,
   "id": "456dae46-bad6-45b4-9710-a5ea3b3c8d13",
   "metadata": {},
   "outputs": [],
   "source": [
    "# Deployment\n",
    "\n",
    "import pandas as pd\n",
    "import pickle\n",
    "import matplotlib.pyplot as plt\n",
    "import time\n",
    "\n",
    "\n"
   ]
  },
  {
   "cell_type": "code",
   "execution_count": 3,
   "id": "0b8dadee-6fcf-4683-a3ce-5b2487f0d056",
   "metadata": {},
   "outputs": [],
   "source": [
    "# Load the model\n",
    "\n",
    "loaded_model=pickle.load(open(\"finalized_logmodel_mlxtend02\",'rb'))\n",
    "\n",
    "# Load the Std Scalar object\n",
    "\n",
    "scx=pickle.load(open(\"scX_002.pkl\",'rb'))"
   ]
  },
  {
   "cell_type": "code",
   "execution_count": 4,
   "id": "6e09a934-a70c-46ff-9428-2cfbd7eb9c25",
   "metadata": {},
   "outputs": [
    {
     "data": {
      "text/plain": [
       "array([1])"
      ]
     },
     "execution_count": 4,
     "metadata": {},
     "output_type": "execute_result"
    }
   ],
   "source": [
    "\n",
    "dataset=pd.read_csv(\"prep.csv\",index_col=None)\n",
    "\n",
    "pre_input=scx.transform([[3.0, 0.0, 3.077356, 4.705597]])\n",
    "\n",
    "loaded_model.predict(pre_input)"
   ]
  },
  {
   "cell_type": "code",
   "execution_count": null,
   "id": "2e05a75e-4b57-4286-b9bd-3f61bcee3ff3",
   "metadata": {},
   "outputs": [],
   "source": []
  }
 ],
 "metadata": {
  "kernelspec": {
   "display_name": "Python 3 (ipykernel)",
   "language": "python",
   "name": "python3"
  },
  "language_info": {
   "codemirror_mode": {
    "name": "ipython",
    "version": 3
   },
   "file_extension": ".py",
   "mimetype": "text/x-python",
   "name": "python",
   "nbconvert_exporter": "python",
   "pygments_lexer": "ipython3",
   "version": "3.10.14"
  }
 },
 "nbformat": 4,
 "nbformat_minor": 5
}
