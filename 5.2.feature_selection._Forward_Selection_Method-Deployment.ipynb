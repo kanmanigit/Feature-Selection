{
 "cells": [
  {
   "cell_type": "code",
   "execution_count": 1,
   "id": "456dae46-bad6-45b4-9710-a5ea3b3c8d13",
   "metadata": {},
   "outputs": [],
   "source": [
    "# Forward Feature Seelction method...\n",
    "\n",
    "import pandas as pd\n",
    "import numpy as np\n",
    "import pickle\n",
    "import matplotlib.pyplot as plt\n",
    "import time\n"
   ]
  },
  {
   "cell_type": "code",
   "execution_count": 6,
   "id": "0b8dadee-6fcf-4683-a3ce-5b2487f0d056",
   "metadata": {},
   "outputs": [],
   "source": [
    "dataset=pd.read_csv(\"prep.csv\",index_col=None)\n",
    "df1=dataset  \n",
    "\n",
    "ssx=pickle.load(open(\"ssx.pkl\",'rb'))\n",
    "loaded_model= pickle.load(open(\"log_model\",'rb'))\n"
   ]
  },
  {
   "cell_type": "code",
   "execution_count": 8,
   "id": "c05ad9f3-b498-44e4-acfd-9b1f404ca4f2",
   "metadata": {},
   "outputs": [
    {
     "name": "stderr",
     "output_type": "stream",
     "text": [
      "/opt/anaconda3/envs/venvaiml/lib/python3.10/site-packages/sklearn/base.py:493: UserWarning: X does not have valid feature names, but StandardScaler was fitted with feature names\n",
      "  warnings.warn(\n"
     ]
    },
    {
     "data": {
      "text/plain": [
       "array([0])"
      ]
     },
     "execution_count": 8,
     "metadata": {},
     "output_type": "execute_result"
    }
   ],
   "source": [
    "pre_input = ssx.transform([[3.0, 12.518156, 4.705597, 1, 0]])\n",
    "loaded_model.predict(pre_input)"
   ]
  },
  {
   "cell_type": "code",
   "execution_count": null,
   "id": "72ac292f-a21b-470d-822d-0c1062e37349",
   "metadata": {},
   "outputs": [],
   "source": []
  },
  {
   "cell_type": "code",
   "execution_count": null,
   "id": "2341d67f-687b-4a8f-8a0b-244b724c4f9d",
   "metadata": {},
   "outputs": [],
   "source": []
  }
 ],
 "metadata": {
  "kernelspec": {
   "display_name": "Python 3 (ipykernel)",
   "language": "python",
   "name": "python3"
  },
  "language_info": {
   "codemirror_mode": {
    "name": "ipython",
    "version": 3
   },
   "file_extension": ".py",
   "mimetype": "text/x-python",
   "name": "python",
   "nbconvert_exporter": "python",
   "pygments_lexer": "ipython3",
   "version": "3.10.14"
  }
 },
 "nbformat": 4,
 "nbformat_minor": 5
}
